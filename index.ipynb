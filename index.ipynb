{
  "nbformat": 4,
  "nbformat_minor": 0,
  "metadata": {
    "colab": {
      "name": "terraLab_sprint_5.ipynb",
      "provenance": [],
      "collapsed_sections": [],
      "authorship_tag": "ABX9TyN7BjhbzSzPIW/l/hjM84Cs",
      "include_colab_link": true
    },
    "kernelspec": {
      "name": "python3",
      "display_name": "Python 3"
    },
    "language_info": {
      "name": "python"
    }
  },
  "cells": [
    {
      "cell_type": "markdown",
      "metadata": {
        "id": "view-in-github",
        "colab_type": "text"
      },
      "source": [
        "<a href=\"https://colab.research.google.com/github/Diego4g/terraLab-sprint-5/blob/main/index.ipynb\" target=\"_parent\"><img src=\"https://colab.research.google.com/assets/colab-badge.svg\" alt=\"Open In Colab\"/></a>"
      ]
    },
    {
      "cell_type": "code",
      "execution_count": 86,
      "metadata": {
        "id": "iETAsnfHfdrx"
      },
      "outputs": [],
      "source": [
        "# Importe a biblioteca usada para consultar uma URL\n",
        "import requests\n",
        "\n",
        "# Importe as funções BeautifulSoup para analisar os dados retornados do site\n",
        "from bs4 import BeautifulSoup\n",
        "\n",
        "# Especifique o URL\n",
        "url = 'https://www.climatempo.com.br/previsao-do-tempo/15-dias/cidade/170/ouropreto-mg'\n",
        "\n",
        "# Informações para fingir ser um navegador\n",
        "header = {\n",
        "  \"User-Agent\": \"Mozilla/5.0 (X11; Linux x86_64) AppleWebKit/537.36 (KHTML, like Gecko) Chrome/98.0.4758.102 Safari/537.36\"\n",
        "}\n",
        "# Consulte o site e retorne o html para a variável 'page'\n",
        "page = requests.get(url, headers=header)\n",
        "\n",
        "\n",
        "# Parse o html na variável 'page' e armazene-o no formato BeautifulSoup\n",
        "soup = BeautifulSoup(page.content, 'html.parser')\n"
      ]
    },
    {
      "cell_type": "code",
      "source": [
        "# Iniciando variáveis\n",
        "A=[]\n",
        "B=[]\n",
        "C=[]\n",
        "D=[]\n",
        "\n",
        "# Capturando informações da seção \n",
        "all_info = soup.findAll('section', attrs={'class': 'accordion-card -daily-infos _border-bl-light-1'})\n",
        "\n",
        "# Filtrando informações e separando por seção\n",
        "for info in all_info:\n",
        "  A.append(info.find('div', attrs={'class' : 'date-inside-circle'}).get_text().replace('\\n',\"\"))\n",
        "  B.append(info.find('span', attrs={'class' : '_margin-r-15'}).get_text())\n",
        "  C.append(info.find('div', attrs={'class' : '-gray _flex _margin-l-5'}).contents[7].get_text())\n",
        "  D.append(info.find('span', attrs={'class' : '_margin-l-5'}).get_text())"
      ],
      "metadata": {
        "id": "jPnmt2vgRlrH"
      },
      "execution_count": 87,
      "outputs": []
    },
    {
      "cell_type": "code",
      "source": [
        "# Formatando dados\n",
        "import pandas as pd\n",
        "\n",
        "df = pd.DataFrame(index=A, columns=['Data'])\n",
        "\n",
        "df['Data']=A\n",
        "df['temp_min']=B\n",
        "df['temp_max']=C\n",
        "df['Chuva']=D\n",
        "\n",
        "file = df.to_csv\n",
        "\n",
        "file_csv = file(index=False)\n",
        "\n",
        "f = open('teste.csv','w')\n",
        "\n",
        "f.write(file_csv)\n",
        "\n",
        "f.close()"
      ],
      "metadata": {
        "id": "sKk-A54AScdm"
      },
      "execution_count": 88,
      "outputs": []
    }
  ]
}